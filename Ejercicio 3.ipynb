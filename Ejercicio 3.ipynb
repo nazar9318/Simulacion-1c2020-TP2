{
 "cells": [
  {
   "cell_type": "code",
   "execution_count": 55,
   "metadata": {},
   "outputs": [],
   "source": [
    "import pandas as pd\n",
    "import math as m\n",
    "import numpy as np\n",
    "import pylab as py\n",
    "import random as rd\n",
    "import matplotlib.pyplot as plt\n",
    "from sklearn.metrics.pairwise import euclidean_distances\n",
    "import seaborn as sns \n",
    "import array\n",
    "from __future__ import division"
   ]
  },
  {
   "cell_type": "code",
   "execution_count": 30,
   "metadata": {},
   "outputs": [],
   "source": [
    "accion_A = pd.read_csv(\"accion A.csv\")\n",
    "accion_B = pd.read_csv(\"accion B.csv\")"
   ]
  },
  {
   "cell_type": "code",
   "execution_count": 31,
   "metadata": {},
   "outputs": [],
   "source": [
    "accion_A = accion_A.rename_axis('ID').values"
   ]
  },
  {
   "cell_type": "code",
   "execution_count": 32,
   "metadata": {},
   "outputs": [],
   "source": [
    "accion_B = accion_B.rename_axis('ID').values"
   ]
  },
  {
   "cell_type": "markdown",
   "metadata": {},
   "source": [
    "# a) Definir estados del sistema"
   ]
  },
  {
   "cell_type": "markdown",
   "metadata": {},
   "source": [
    "En cada día, podría pasar que el valor de la acción A sea mayor, igual o menor que el valor de la acción B, por lo que los estados que se definen son: 'A mayor que B', 'B mayor que A' e 'Iguales'"
   ]
  },
  {
   "cell_type": "code",
   "execution_count": 35,
   "metadata": {},
   "outputs": [],
   "source": [
    "def compararAcciones(accion_a, accion_b, indice):\n",
    "    if (accion_a[indice][1] > accion_b[indice][1]):\n",
    "        return \"A mayor que B\"\n",
    "    elif (accion_a[indice][1] < accion_b[indice][1]):\n",
    "        return \"B mayor que A\"\n",
    "    else:\n",
    "        return \"Iguales\""
   ]
  },
  {
   "cell_type": "markdown",
   "metadata": {},
   "source": [
    "# b) Calcular la matriz de transición de estados."
   ]
  },
  {
   "cell_type": "markdown",
   "metadata": {},
   "source": [
    "Inicializamos una matriz de cambio de estados, como tenemos tres estados posibles definimos una matriz de 3x3"
   ]
  },
  {
   "cell_type": "code",
   "execution_count": 121,
   "metadata": {},
   "outputs": [],
   "source": [
    "Cantidad_Transicion = [[0, 0, 0],[0, 0, 0],[0, 0, 0]]\n",
    "Cantidad_Transicion = np.array(Cantidad_Transicion)"
   ]
  },
  {
   "cell_type": "markdown",
   "metadata": {},
   "source": [
    "Formato de la matriz:\n",
    "\n",
    "             |       Columna 1           |        Columna 2               |          Columna 3             |\n",
    "             |---------------------------|--------------------------------|------------------------------- |\n",
    "      Fila 1 |     Iguales -> Iguales    |    Iguales -> A mayor que B    | Iguales -> B mayor que A       |\n",
    "      Fila 2 |  A mayor que B -> Iguales | A mayor que B -> A mayor que B | A mayor que B -> B mayor que A |\n",
    "      Fila 3 |  B mayor que A -> Iguales | B mayor que A -> A mayor que B | Iguales -> B mayor que A       |"
   ]
  },
  {
   "cell_type": "markdown",
   "metadata": {},
   "source": [
    "Comparamos los valores de las acciones día a día, y comparamos el estado nuevo con el anterior, luego sumamos 1 a la posición correspondiente de la matriz de transiciones."
   ]
  },
  {
   "cell_type": "code",
   "execution_count": 122,
   "metadata": {},
   "outputs": [],
   "source": [
    "estado_anterior = \"\"\n",
    "for indice in range(len(accion_A)):\n",
    "    estado_nuevo = compararAcciones(accion_A, accion_B, indice)\n",
    "    if (estado_nuevo == \"Iguales\"):\n",
    "        if (estado_anterior == \"Iguales\"):\n",
    "            Cantidad_Transicion[0][0] = Cantidad_Transicion[0][0] + 1\n",
    "        if (estado_anterior == \"A mayor que B\"):\n",
    "            Cantidad_Transicion[0][1] = Cantidad_Transicion[0][1] + 1\n",
    "        if (estado_anterior == \"B mayor que A\"):\n",
    "            Cantidad_Transicion[0][2] = Cantidad_Transicion[0][2] + 1\n",
    "    if (estado_nuevo == \"A mayor que B\"):\n",
    "        if (estado_anterior == \"Iguales\"):\n",
    "            Cantidad_Transicion[1][0] = Cantidad_Transicion[1][0] + 1\n",
    "        if (estado_anterior == \"A mayor que B\"):\n",
    "            Cantidad_Transicion[1][1] = Cantidad_Transicion[1][1] + 1\n",
    "        if (estado_anterior == \"B mayor que A\"):\n",
    "            Cantidad_Transicion[1][2] = Cantidad_Transicion[1][2] + 1\n",
    "    if (estado_nuevo == \"B mayor que A\"):\n",
    "        if (estado_anterior == \"Iguales\"):\n",
    "            Cantidad_Transicion[2][0] = Cantidad_Transicion[2][0] + 1\n",
    "        if (estado_anterior == \"A mayor que B\"):\n",
    "            Cantidad_Transicion[2][1] = Cantidad_Transicion[2][1] + 1\n",
    "        if (estado_anterior == \"B mayor que A\"):\n",
    "            Cantidad_Transicion[2][2] = Cantidad_Transicion[2][2] + 1\n",
    "    estado_anterior = estado_nuevo"
   ]
  },
  {
   "cell_type": "code",
   "execution_count": 123,
   "metadata": {},
   "outputs": [
    {
     "data": {
      "text/plain": [
       "array([[  0,   0,   0],\n",
       "       [  0, 857,   1],\n",
       "       [  0,   1,   0]])"
      ]
     },
     "execution_count": 123,
     "metadata": {},
     "output_type": "execute_result"
    }
   ],
   "source": [
    "Cantidad_Transicion"
   ]
  },
  {
   "cell_type": "markdown",
   "metadata": {},
   "source": [
    "Calculamos las probabilidades de cada transicion dividiendo la cantidad de transiciones de cada estado por la cantidad de dias"
   ]
  },
  {
   "cell_type": "code",
   "execution_count": 125,
   "metadata": {},
   "outputs": [
    {
     "name": "stderr",
     "output_type": "stream",
     "text": [
      "/home/federico/.local/lib/python2.7/site-packages/ipykernel_launcher.py:1: RuntimeWarning: invalid value encountered in true_divide\n",
      "  \"\"\"Entry point for launching an IPython kernel.\n"
     ]
    }
   ],
   "source": [
    "Probabilidad_Transicion = (Cantidad_Transicion.T/Cantidad_Transicion.sum(axis=1)).T\n",
    "#Probabilidad_Transicion = np.array(Cantidad_Transicion)/860"
   ]
  },
  {
   "cell_type": "code",
   "execution_count": 126,
   "metadata": {},
   "outputs": [
    {
     "data": {
      "text/plain": [
       "array([[      nan,       nan,       nan],\n",
       "       [0.       , 0.9988345, 0.0011655],\n",
       "       [0.       , 1.       , 0.       ]])"
      ]
     },
     "execution_count": 126,
     "metadata": {},
     "output_type": "execute_result"
    }
   ],
   "source": [
    "Probabilidad_Transicion"
   ]
  },
  {
   "cell_type": "code",
   "execution_count": 127,
   "metadata": {},
   "outputs": [],
   "source": [
    "matriz_transiciones = [[0,0],[0,0]]"
   ]
  },
  {
   "cell_type": "code",
   "execution_count": 128,
   "metadata": {},
   "outputs": [
    {
     "data": {
      "text/plain": [
       "array([[0.9988345, 0.0011655],\n",
       "       [1.       , 0.       ]])"
      ]
     },
     "execution_count": 128,
     "metadata": {},
     "output_type": "execute_result"
    }
   ],
   "source": [
    "matriz_transiciones[0][0] = Probabilidad_Transicion[1][1]\n",
    "matriz_transiciones[0][1] = Probabilidad_Transicion[1][2]\n",
    "matriz_transiciones[1][0] = Probabilidad_Transicion[2][1]\n",
    "matriz_transiciones[1][1] = Probabilidad_Transicion[2][2]\n",
    "matriz_transiciones = np.array(matriz_transiciones)\n",
    "matriz_transiciones"
   ]
  },
  {
   "cell_type": "markdown",
   "metadata": {},
   "source": [
    "# c) Calcular la fracción de tiempo que el sistema se encuentra en cada uno de los estados."
   ]
  },
  {
   "cell_type": "code",
   "execution_count": 129,
   "metadata": {},
   "outputs": [],
   "source": [
    "from numpy.linalg import matrix_power"
   ]
  },
  {
   "cell_type": "code",
   "execution_count": 132,
   "metadata": {},
   "outputs": [
    {
     "data": {
      "text/plain": [
       "array([[0.99883586, 0.00116414],\n",
       "       [0.99883586, 0.00116414]])"
      ]
     },
     "execution_count": 132,
     "metadata": {},
     "output_type": "execute_result"
    }
   ],
   "source": [
    "fraccion_tiempo = matrix_power(matriz_transiciones, 100)\n",
    "fraccion_tiempo"
   ]
  },
  {
   "cell_type": "markdown",
   "metadata": {},
   "source": [
    "# d) Simule, para cada acción, una evolución posible a lo largo de un año."
   ]
  },
  {
   "cell_type": "code",
   "execution_count": 145,
   "metadata": {},
   "outputs": [],
   "source": [
    "from scipy.stats import uniform\n",
    "import matplotlib.pyplot as plt"
   ]
  },
  {
   "cell_type": "code",
   "execution_count": 146,
   "metadata": {},
   "outputs": [],
   "source": [
    "n, p_A, p_B = 365, fraccion_tiempo[0][0], fraccion_tiempo[1][1]"
   ]
  },
  {
   "cell_type": "code",
   "execution_count": 147,
   "metadata": {},
   "outputs": [],
   "source": [
    "estados_luego_del_anio = matrix_power(matriz_transiciones, n)"
   ]
  },
  {
   "cell_type": "markdown",
   "metadata": {},
   "source": [
    "Empezando en A:"
   ]
  },
  {
   "cell_type": "code",
   "execution_count": 150,
   "metadata": {},
   "outputs": [
    {
     "data": {
      "text/plain": [
       "0.4808786021188727"
      ]
     },
     "execution_count": 150,
     "metadata": {},
     "output_type": "execute_result"
    }
   ],
   "source": [
    "estado_final_empezando_en_A = np.random.uniform(p_A, 1 - p_A)\n",
    "estado_final_empezando_en_A"
   ]
  },
  {
   "cell_type": "code",
   "execution_count": null,
   "metadata": {},
   "outputs": [],
   "source": [
    "if (estado_final_empezando_en_A <)"
   ]
  },
  {
   "cell_type": "code",
   "execution_count": null,
   "metadata": {},
   "outputs": [],
   "source": []
  },
  {
   "cell_type": "markdown",
   "metadata": {},
   "source": [
    "# e) ¿Qué acción recomendaría comprar?"
   ]
  },
  {
   "cell_type": "code",
   "execution_count": 133,
   "metadata": {},
   "outputs": [
    {
     "name": "stdout",
     "output_type": "stream",
     "text": [
      "La accion A tiene mas probabilidad de mantenerse superior a la B que de ser superada\n"
     ]
    }
   ],
   "source": [
    "ganador_si_elegimos_A = \"\"\n",
    "\n",
    "if (fraccion_tiempo[0][0] > fraccion_tiempo[0][1]):\n",
    "    ganador_si_elegimos_A = \"A\"\n",
    "    print \"La accion A tiene mas probabilidad de mantenerse superior a la B que de ser superada\"\n",
    "else:\n",
    "    ganador_si_elegimos_A = \"B\"\n",
    "    print \"La accion A tiene mas probabilidad de ser superada por la accion B que de mantenerse superior\""
   ]
  },
  {
   "cell_type": "code",
   "execution_count": 134,
   "metadata": {},
   "outputs": [
    {
     "name": "stdout",
     "output_type": "stream",
     "text": [
      "La accion B tiene mas probabilidad de ser superada por la accion A que de mantenerse superior\n"
     ]
    }
   ],
   "source": [
    "ganador_si_elegimos_B = \"\"\n",
    "\n",
    "if (fraccion_tiempo[1][0] > fraccion_tiempo[1][1]):\n",
    "    ganador_si_elegimos_B = \"A\"\n",
    "    print \"La accion B tiene mas probabilidad de ser superada por la accion A que de mantenerse superior\"\n",
    "else:\n",
    "    ganador_si_elegimos_B = \"B\"\n",
    "    print \"La accion B tiene mas probabilidad de mantenerse superior a la A que de ser superada\""
   ]
  },
  {
   "cell_type": "code",
   "execution_count": 135,
   "metadata": {},
   "outputs": [
    {
     "name": "stdout",
     "output_type": "stream",
     "text": [
      "Conviene elegir A\n"
     ]
    }
   ],
   "source": [
    "if (ganador_si_elegimos_A == \"A\" and ganador_si_elegimos_B == \"A\"):\n",
    "    print \"Conviene elegir A\"\n",
    "elif (ganador_si_elegimos_A == \"B\" and ganador_si_elegimos_B == \"B\"):\n",
    "    print \"Conviene elegir B\"\n",
    "else:\n",
    "    print \"Cualquier eleccion es buena\""
   ]
  }
 ],
 "metadata": {
  "kernelspec": {
   "display_name": "Python 3",
   "language": "python",
   "name": "python3"
  },
  "language_info": {
   "codemirror_mode": {
    "name": "ipython",
    "version": 2
   },
   "file_extension": ".py",
   "mimetype": "text/x-python",
   "name": "python",
   "nbconvert_exporter": "python",
   "pygments_lexer": "ipython2",
   "version": "2.7.15"
  }
 },
 "nbformat": 4,
 "nbformat_minor": 2
}
