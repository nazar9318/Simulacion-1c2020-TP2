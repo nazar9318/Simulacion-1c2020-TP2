{
 "cells": [
  {
   "cell_type": "code",
   "execution_count": 55,
   "metadata": {},
   "outputs": [],
   "source": [
    "import pandas as pd\n",
    "import math as m\n",
    "import numpy as np\n",
    "import pylab as py\n",
    "import random as rd\n",
    "import matplotlib.pyplot as plt\n",
    "from sklearn.metrics.pairwise import euclidean_distances\n",
    "import seaborn as sns \n",
    "import array\n",
    "from __future__ import division"
   ]
  },
  {
   "cell_type": "code",
   "execution_count": 30,
   "metadata": {},
   "outputs": [],
   "source": [
    "accion_A = pd.read_csv(\"accion A.csv\")\n",
    "accion_B = pd.read_csv(\"accion B.csv\")"
   ]
  },
  {
   "cell_type": "code",
   "execution_count": 31,
   "metadata": {},
   "outputs": [],
   "source": [
    "accion_A = accion_A.rename_axis('ID').values"
   ]
  },
  {
   "cell_type": "code",
   "execution_count": 32,
   "metadata": {},
   "outputs": [],
   "source": [
    "accion_B = accion_B.rename_axis('ID').values"
   ]
  },
  {
   "cell_type": "code",
   "execution_count": 35,
   "metadata": {},
   "outputs": [],
   "source": [
    "def compararAcciones(accion_a, accion_b, indice):\n",
    "    if (accion_a[indice][1] > accion_b[indice][1]):\n",
    "        return \"A mayor que B\"\n",
    "    elif (accion_a[indice][1] < accion_b[indice][1]):\n",
    "        return \"B mayor que A\"\n",
    "    else:\n",
    "        return \"Iguales\""
   ]
  },
  {
   "cell_type": "code",
   "execution_count": 68,
   "metadata": {},
   "outputs": [],
   "source": [
    "Cantidad_Transicion = [[0, 0, 0],[0, 0, 0],[0, 0, 0]]"
   ]
  },
  {
   "cell_type": "code",
   "execution_count": 70,
   "metadata": {},
   "outputs": [],
   "source": [
    "estado_anterior = \"\"\n",
    "for indice in range(len(accion_A)):\n",
    "    estado_nuevo = compararAcciones(accion_A, accion_B, indice)\n",
    "    if (estado_nuevo == \"Iguales\"):\n",
    "        if (estado_anterior == \"Iguales\"):\n",
    "            Cantidad_Transicion[0][0] = Cantidad_Transicion[0][0] + 1\n",
    "        if (estado_anterior == \"A mayor que B\"):\n",
    "            Cantidad_Transicion[0][1] = Cantidad_Transicion[0][1] + 1\n",
    "        if (estado_anterior == \"B mayor que A\"):\n",
    "            Cantidad_Transicion[0][2] = Cantidad_Transicion[0][2] + 1\n",
    "    if (estado_nuevo == \"A mayor que B\"):\n",
    "        if (estado_anterior == \"Iguales\"):\n",
    "            Cantidad_Transicion[1][0] = Cantidad_Transicion[1][0] + 1\n",
    "        if (estado_anterior == \"A mayor que B\"):\n",
    "            Cantidad_Transicion[1][1] = Cantidad_Transicion[1][1] + 1\n",
    "        if (estado_anterior == \"B mayor que A\"):\n",
    "            Cantidad_Transicion[1][2] = Cantidad_Transicion[1][2] + 1\n",
    "    if (estado_nuevo == \"B mayor que A\"):\n",
    "        if (estado_anterior == \"Iguales\"):\n",
    "            Cantidad_Transicion[2][0] = Cantidad_Transicion[2][0] + 1\n",
    "        if (estado_anterior == \"A mayor que B\"):\n",
    "            Cantidad_Transicion[2][1] = Cantidad_Transicion[2][1] + 1\n",
    "        if (estado_anterior == \"B mayor que A\"):\n",
    "            Cantidad_Transicion[2][2] = Cantidad_Transicion[2][2] + 1\n",
    "    estado_anterior = estado_nuevo"
   ]
  },
  {
   "cell_type": "code",
   "execution_count": 71,
   "metadata": {},
   "outputs": [
    {
     "data": {
      "text/plain": [
       "[[0, 0, 0], [0, 857, 1], [0, 1, 0]]"
      ]
     },
     "execution_count": 71,
     "metadata": {},
     "output_type": "execute_result"
    }
   ],
   "source": [
    "Cantidad_Transicion"
   ]
  },
  {
   "cell_type": "code",
   "execution_count": 77,
   "metadata": {},
   "outputs": [],
   "source": [
    "Probabilidad_Transicion = np.array(Cantidad_Transicion)/860"
   ]
  },
  {
   "cell_type": "code",
   "execution_count": 87,
   "metadata": {},
   "outputs": [
    {
     "data": {
      "text/plain": [
       "array([[0.        , 0.        , 0.        ],\n",
       "       [0.        , 0.99651163, 0.00116279],\n",
       "       [0.        , 0.00116279, 0.        ]])"
      ]
     },
     "execution_count": 87,
     "metadata": {},
     "output_type": "execute_result"
    }
   ],
   "source": [
    "Probabilidad_Transicion"
   ]
  },
  {
   "cell_type": "code",
   "execution_count": 69,
   "metadata": {},
   "outputs": [],
   "source": [
    "Estados = \n",
    "[[\"Iguales => Iguales\", \"Iguales => A mayor que B\", \"Iguales => B mayor que A\"],\n",
    " [\"A mayor que B => Iguales\", \"A mayor que B => A mayor que B\", \"A mayor que B => B mayor que A\"],\n",
    " [\"B mayor que A => Iguales\", \"B mayor que A => A mayor que B\", \"B mayor que A => B mayor que A\"]]"
   ]
  },
  {
   "cell_type": "code",
   "execution_count": 84,
   "metadata": {},
   "outputs": [],
   "source": [
    "from numpy.linalg import matrix_power"
   ]
  },
  {
   "cell_type": "code",
   "execution_count": 89,
   "metadata": {},
   "outputs": [],
   "source": [
    "fraccion_tiempo = matrix_power(Probabilidad_Transicion, 100)"
   ]
  },
  {
   "cell_type": "code",
   "execution_count": null,
   "metadata": {},
   "outputs": [],
   "source": [
    "if (fraccion_tiempo[0][])"
   ]
  }
 ],
 "metadata": {
  "kernelspec": {
   "display_name": "Python 3",
   "language": "python",
   "name": "python3"
  },
  "language_info": {
   "codemirror_mode": {
    "name": "ipython",
    "version": 2
   },
   "file_extension": ".py",
   "mimetype": "text/x-python",
   "name": "python",
   "nbconvert_exporter": "python",
   "pygments_lexer": "ipython2",
   "version": "2.7.15"
  }
 },
 "nbformat": 4,
 "nbformat_minor": 2
}
