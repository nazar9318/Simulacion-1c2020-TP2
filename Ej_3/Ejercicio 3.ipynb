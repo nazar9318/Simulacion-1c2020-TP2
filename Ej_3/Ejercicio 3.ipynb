{
 "cells": [
  {
   "cell_type": "code",
   "execution_count": 1,
   "metadata": {},
   "outputs": [],
   "source": [
    "import pandas as pd\n",
    "import math as m\n",
    "import numpy as np\n",
    "import pylab as py\n",
    "import random as rd\n",
    "import matplotlib.pyplot as plt\n",
    "from sklearn.metrics.pairwise import euclidean_distances\n",
    "import seaborn as sns \n",
    "import array\n",
    "from __future__ import division"
   ]
  },
  {
   "cell_type": "code",
   "execution_count": 2,
   "metadata": {},
   "outputs": [],
   "source": [
    "accion_A = pd.read_csv(\"accion A.csv\")\n",
    "accion_B = pd.read_csv(\"accion B.csv\")"
   ]
  },
  {
   "cell_type": "code",
   "execution_count": 3,
   "metadata": {},
   "outputs": [],
   "source": [
    "accion_A = accion_A.rename_axis('ID').values"
   ]
  },
  {
   "cell_type": "code",
   "execution_count": 4,
   "metadata": {},
   "outputs": [],
   "source": [
    "accion_B = accion_B.rename_axis('ID').values"
   ]
  },
  {
   "cell_type": "markdown",
   "metadata": {},
   "source": [
    "# a) Definir estados del sistema"
   ]
  },
  {
   "cell_type": "markdown",
   "metadata": {},
   "source": [
    "En cada día, podría pasar que el valor de la acción A sea mayor, igual o menor que el valor de la acción B, por lo que los estados que se definen son: 'A mayor que B', 'B mayor que A' e 'Iguales'"
   ]
  },
  {
   "cell_type": "code",
   "execution_count": 5,
   "metadata": {},
   "outputs": [],
   "source": [
    "def compararAcciones(accion_a, accion_b, indice):\n",
    "    if (accion_a[indice][1] > accion_b[indice][1]):\n",
    "        return \"A mayor que B\"\n",
    "    elif (accion_a[indice][1] < accion_b[indice][1]):\n",
    "        return \"B mayor que A\"\n",
    "    else:\n",
    "        return \"Iguales\""
   ]
  },
  {
   "cell_type": "markdown",
   "metadata": {},
   "source": [
    "# b) Calcular la matriz de transición de estados."
   ]
  },
  {
   "cell_type": "markdown",
   "metadata": {},
   "source": [
    "Inicializamos una matriz de cambio de estados, como tenemos tres estados posibles definimos una matriz de 3x3"
   ]
  },
  {
   "cell_type": "code",
   "execution_count": 6,
   "metadata": {},
   "outputs": [],
   "source": [
    "Cantidad_Transicion = [[0, 0, 0],[0, 0, 0],[0, 0, 0]]\n",
    "Cantidad_Transicion = np.array(Cantidad_Transicion)"
   ]
  },
  {
   "cell_type": "markdown",
   "metadata": {},
   "source": [
    "Formato de la matriz:\n",
    "\n",
    "             |       Columna 1           |        Columna 2               |          Columna 3             |\n",
    "             |---------------------------|--------------------------------|------------------------------- |\n",
    "      Fila 1 |     Iguales -> Iguales    |    Iguales -> A mayor que B    | Iguales -> B mayor que A       |\n",
    "      Fila 2 |  A mayor que B -> Iguales | A mayor que B -> A mayor que B | A mayor que B -> B mayor que A |\n",
    "      Fila 3 |  B mayor que A -> Iguales | B mayor que A -> A mayor que B | Iguales -> B mayor que A       |"
   ]
  },
  {
   "cell_type": "markdown",
   "metadata": {},
   "source": [
    "Comparamos los valores de las acciones día a día, y comparamos el estado nuevo con el anterior, luego sumamos 1 a la posición correspondiente de la matriz de transiciones."
   ]
  },
  {
   "cell_type": "code",
   "execution_count": 7,
   "metadata": {},
   "outputs": [],
   "source": [
    "estado_anterior = \"\"\n",
    "for indice in range(len(accion_A)):\n",
    "    estado_nuevo = compararAcciones(accion_A, accion_B, indice)\n",
    "    if (estado_nuevo == \"Iguales\"):\n",
    "        if (estado_anterior == \"Iguales\"):\n",
    "            Cantidad_Transicion[0][0] = Cantidad_Transicion[0][0] + 1\n",
    "        if (estado_anterior == \"A mayor que B\"):\n",
    "            Cantidad_Transicion[1][0] = Cantidad_Transicion[1][0] + 1\n",
    "        if (estado_anterior == \"B mayor que A\"):\n",
    "            Cantidad_Transicion[2][0] = Cantidad_Transicion[2][0] + 1\n",
    "    if (estado_nuevo == \"A mayor que B\"):\n",
    "        if (estado_anterior == \"Iguales\"):\n",
    "            Cantidad_Transicion[0][1] = Cantidad_Transicion[0][1] + 1\n",
    "        if (estado_anterior == \"A mayor que B\"):\n",
    "            Cantidad_Transicion[1][1] = Cantidad_Transicion[1][1] + 1\n",
    "        if (estado_anterior == \"B mayor que A\"):\n",
    "            Cantidad_Transicion[2][1] = Cantidad_Transicion[2][1] + 1\n",
    "    if (estado_nuevo == \"B mayor que A\"):\n",
    "        if (estado_anterior == \"Iguales\"):\n",
    "            Cantidad_Transicion[0][2] = Cantidad_Transicion[0][2] + 1\n",
    "        if (estado_anterior == \"A mayor que B\"):\n",
    "            Cantidad_Transicion[1][2] = Cantidad_Transicion[1][2] + 1\n",
    "        if (estado_anterior == \"B mayor que A\"):\n",
    "            Cantidad_Transicion[2][2] = Cantidad_Transicion[2][2] + 1\n",
    "    estado_anterior = estado_nuevo"
   ]
  },
  {
   "cell_type": "code",
   "execution_count": 8,
   "metadata": {},
   "outputs": [
    {
     "data": {
      "text/plain": [
       "array([[  0,   0,   0],\n",
       "       [  0, 857,   1],\n",
       "       [  0,   1,   0]])"
      ]
     },
     "execution_count": 8,
     "metadata": {},
     "output_type": "execute_result"
    }
   ],
   "source": [
    "Cantidad_Transicion"
   ]
  },
  {
   "cell_type": "markdown",
   "metadata": {},
   "source": [
    "Calculamos las probabilidades de cada transicion dividiendo la cantidad de transiciones de cada estado por la cantidad de dias"
   ]
  },
  {
   "cell_type": "code",
   "execution_count": 9,
   "metadata": {},
   "outputs": [
    {
     "name": "stderr",
     "output_type": "stream",
     "text": [
      "/home/federico/.local/lib/python2.7/site-packages/ipykernel_launcher.py:1: RuntimeWarning: invalid value encountered in true_divide\n",
      "  \"\"\"Entry point for launching an IPython kernel.\n"
     ]
    }
   ],
   "source": [
    "Probabilidad_Transicion = (Cantidad_Transicion.T/Cantidad_Transicion.sum(axis=1)).T\n",
    "#Probabilidad_Transicion = np.array(Cantidad_Transicion)/860"
   ]
  },
  {
   "cell_type": "code",
   "execution_count": 10,
   "metadata": {},
   "outputs": [
    {
     "data": {
      "text/plain": [
       "array([[      nan,       nan,       nan],\n",
       "       [0.       , 0.9988345, 0.0011655],\n",
       "       [0.       , 1.       , 0.       ]])"
      ]
     },
     "execution_count": 10,
     "metadata": {},
     "output_type": "execute_result"
    }
   ],
   "source": [
    "Probabilidad_Transicion"
   ]
  },
  {
   "cell_type": "code",
   "execution_count": 11,
   "metadata": {},
   "outputs": [],
   "source": [
    "matriz_transiciones = [[0,0],[0,0]]"
   ]
  },
  {
   "cell_type": "code",
   "execution_count": 12,
   "metadata": {},
   "outputs": [
    {
     "data": {
      "text/plain": [
       "array([[0.9988345, 0.0011655],\n",
       "       [1.       , 0.       ]])"
      ]
     },
     "execution_count": 12,
     "metadata": {},
     "output_type": "execute_result"
    }
   ],
   "source": [
    "matriz_transiciones[0][0] = Probabilidad_Transicion[1][1]\n",
    "matriz_transiciones[0][1] = Probabilidad_Transicion[1][2]\n",
    "matriz_transiciones[1][0] = Probabilidad_Transicion[2][1]\n",
    "matriz_transiciones[1][1] = Probabilidad_Transicion[2][2]\n",
    "matriz_transiciones = np.array(matriz_transiciones)\n",
    "matriz_transiciones"
   ]
  },
  {
   "cell_type": "markdown",
   "metadata": {},
   "source": [
    "# c) Calcular la fracción de tiempo que el sistema se encuentra en cada uno de los estados."
   ]
  },
  {
   "cell_type": "code",
   "execution_count": 13,
   "metadata": {},
   "outputs": [],
   "source": [
    "from numpy.linalg import matrix_power"
   ]
  },
  {
   "cell_type": "code",
   "execution_count": 14,
   "metadata": {},
   "outputs": [
    {
     "data": {
      "text/plain": [
       "array([[0.99883586, 0.00116414],\n",
       "       [0.99883586, 0.00116414]])"
      ]
     },
     "execution_count": 14,
     "metadata": {},
     "output_type": "execute_result"
    }
   ],
   "source": [
    "fraccion_tiempo = matrix_power(matriz_transiciones, 100)\n",
    "fraccion_tiempo"
   ]
  },
  {
   "cell_type": "markdown",
   "metadata": {},
   "source": [
    "# d) Simule, para cada acción, una evolución posible a lo largo de un año."
   ]
  },
  {
   "cell_type": "code",
   "execution_count": 15,
   "metadata": {},
   "outputs": [],
   "source": [
    "from scipy.stats import uniform\n",
    "import matplotlib.pyplot as plt\n",
    "import random as rd\n",
    "from scipy.stats import bernoulli"
   ]
  },
  {
   "cell_type": "code",
   "execution_count": 16,
   "metadata": {},
   "outputs": [],
   "source": [
    "n = 365"
   ]
  },
  {
   "cell_type": "markdown",
   "metadata": {},
   "source": [
    "Empezando en A:"
   ]
  },
  {
   "cell_type": "code",
   "execution_count": 44,
   "metadata": {},
   "outputs": [
    {
     "data": {
      "text/plain": [
       "<BarContainer object of 2 artists>"
      ]
     },
     "execution_count": 44,
     "metadata": {},
     "output_type": "execute_result"
    },
    {
     "data": {
      "image/png": "[encoded data removed]",
      "text/plain": [
       "<Figure size 432x288 with 1 Axes>"
      ]
     },
     "metadata": {
      "needs_background": "light"
     },
     "output_type": "display_data"
    }
   ],
   "source": [
    "hist = [['a_mayor_b', 'b_mayor_a'],[0, 0]]\n",
    "estado_inicial = np.array([1, 0])\n",
    "nuevo_estado_array = estado_inicial\n",
    "for j in range(365):\n",
    "    probabilidad_nuevo_estado = np.matmul(nuevo_estado_array, matriz_transiciones)\n",
    "    u_1 = np.random.uniform(0,1)\n",
    "    if (u_1 < probabilidad_nuevo_estado[0]):\n",
    "        nuevo_estado = 1\n",
    "        hist[1][0] = hist[1][0] + 1\n",
    "    else:\n",
    "        nuevo_estado = 0\n",
    "        hist[1][1] = hist[1][1] + 1\n",
    "    nuevo_estado_array = np.array([nuevo_estado, 1 if nuevo_estado == 0 else 0])\n",
    "\n",
    "plt.bar(hist[0], hist[1])"
   ]
  },
  {
   "cell_type": "code",
   "execution_count": 45,
   "metadata": {},
   "outputs": [
    {
     "data": {
      "text/plain": [
       "<BarContainer object of 2 artists>"
      ]
     },
     "execution_count": 45,
     "metadata": {},
     "output_type": "execute_result"
    },
    {
     "data": {
      "image/png": "[encoded data removed]",
      "text/plain": [
       "<Figure size 432x288 with 1 Axes>"
      ]
     },
     "metadata": {
      "needs_background": "light"
     },
     "output_type": "display_data"
    }
   ],
   "source": [
    "hist = [['a_mayor_b', 'b_mayor_a'],[0, 0]]\n",
    "estado_inicial = np.array([0, 1])\n",
    "nuevo_estado_array = estado_inicial\n",
    "for j in range(365):\n",
    "    probabilidad_nuevo_estado = np.matmul(nuevo_estado_array, matriz_transiciones)\n",
    "    u_1 = np.random.uniform(0,1)\n",
    "    if (u_1 < probabilidad_nuevo_estado[0]):\n",
    "        nuevo_estado = 1\n",
    "        hist[1][0] = hist[1][0] + 1\n",
    "    else:\n",
    "        nuevo_estado = 0\n",
    "        hist[1][1] = hist[1][1] + 1\n",
    "    nuevo_estado_array = np.array([nuevo_estado, 1 if nuevo_estado == 0 else 0])\n",
    "\n",
    "plt.bar(hist[0], hist[1])"
   ]
  },
  {
   "cell_type": "code",
   "execution_count": null,
   "metadata": {},
   "outputs": [],
   "source": []
  },
  {
   "cell_type": "code",
   "execution_count": null,
   "metadata": {},
   "outputs": [],
   "source": []
  },
  {
   "cell_type": "code",
   "execution_count": null,
   "metadata": {},
   "outputs": [],
   "source": []
  },
  {
   "cell_type": "code",
   "execution_count": null,
   "metadata": {},
   "outputs": [],
   "source": []
  },
  {
   "cell_type": "markdown",
   "metadata": {},
   "source": [
    "# e) ¿Qué acción recomendaría comprar?"
   ]
  },
  {
   "cell_type": "code",
   "execution_count": 133,
   "metadata": {},
   "outputs": [
    {
     "name": "stdout",
     "output_type": "stream",
     "text": [
      "La accion A tiene mas probabilidad de mantenerse superior a la B que de ser superada\n"
     ]
    }
   ],
   "source": [
    "ganador_si_elegimos_A = \"\"\n",
    "\n",
    "if (fraccion_tiempo[0][0] > fraccion_tiempo[0][1]):\n",
    "    ganador_si_elegimos_A = \"A\"\n",
    "    print \"La accion A tiene mas probabilidad de mantenerse superior a la B que de ser superada\"\n",
    "else:\n",
    "    ganador_si_elegimos_A = \"B\"\n",
    "    print \"La accion A tiene mas probabilidad de ser superada por la accion B que de mantenerse superior\""
   ]
  },
  {
   "cell_type": "code",
   "execution_count": 134,
   "metadata": {},
   "outputs": [
    {
     "name": "stdout",
     "output_type": "stream",
     "text": [
      "La accion B tiene mas probabilidad de ser superada por la accion A que de mantenerse superior\n"
     ]
    }
   ],
   "source": [
    "ganador_si_elegimos_B = \"\"\n",
    "\n",
    "if (fraccion_tiempo[1][0] > fraccion_tiempo[1][1]):\n",
    "    ganador_si_elegimos_B = \"A\"\n",
    "    print \"La accion B tiene mas probabilidad de ser superada por la accion A que de mantenerse superior\"\n",
    "else:\n",
    "    ganador_si_elegimos_B = \"B\"\n",
    "    print \"La accion B tiene mas probabilidad de mantenerse superior a la A que de ser superada\""
   ]
  },
  {
   "cell_type": "code",
   "execution_count": 135,
   "metadata": {},
   "outputs": [
    {
     "name": "stdout",
     "output_type": "stream",
     "text": [
      "Conviene elegir A\n"
     ]
    }
   ],
   "source": [
    "if (ganador_si_elegimos_A == \"A\" and ganador_si_elegimos_B == \"A\"):\n",
    "    print \"Conviene elegir A\"\n",
    "elif (ganador_si_elegimos_A == \"B\" and ganador_si_elegimos_B == \"B\"):\n",
    "    print \"Conviene elegir B\"\n",
    "else:\n",
    "    print \"Cualquier eleccion es buena\""
   ]
  }
 ],
 "metadata": {
  "kernelspec": {
   "display_name": "Python 3",
   "language": "python",
   "name": "python3"
  },
  "language_info": {
   "codemirror_mode": {
    "name": "ipython",
    "version": 2
   },
   "file_extension": ".py",
   "mimetype": "text/x-python",
   "name": "python",
   "nbconvert_exporter": "python",
   "pygments_lexer": "ipython2",
   "version": "2.7.15"
  }
 },
 "nbformat": 4,
 "nbformat_minor": 2
}
